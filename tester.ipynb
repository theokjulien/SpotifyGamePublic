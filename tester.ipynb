{
 "cells": [
  {
   "cell_type": "code",
   "execution_count": 4,
   "metadata": {},
   "outputs": [],
   "source": [
    "def html_list(l):\n",
    "    return \"<ul> <li>\" + \" </li> <li> \".join(l) + \"</li> </ul>\""
   ]
  },
  {
   "cell_type": "code",
   "execution_count": 5,
   "metadata": {},
   "outputs": [
    {
     "data": {
      "text/plain": [
       "'<ul> <li>1 </li> <li> 2 </li> <li> 3 </li> <li> 4 </li> <li> 5 </li> <li> 6 </li> <li> 7 </li> <li> 8 </li> <li> 9 </li> <li> 10</li> </ul>'"
      ]
     },
     "execution_count": 5,
     "metadata": {},
     "output_type": "execute_result"
    }
   ],
   "source": [
    "a = [str(i) for i in range(1,11)]\n",
    "html_list(a)"
   ]
  },
  {
   "cell_type": "code",
   "execution_count": 3,
   "metadata": {},
   "outputs": [
    {
     "data": {
      "text/plain": [
       "{'a': 2}"
      ]
     },
     "execution_count": 3,
     "metadata": {},
     "output_type": "execute_result"
    }
   ],
   "source": [
    "d = {\"a\" : [1]}\n",
    "d[\"a\"] = 2\n",
    "d"
   ]
  },
  {
   "cell_type": "code",
   "execution_count": 2,
   "metadata": {},
   "outputs": [],
   "source": [
    "class Ball:\n",
    "    def __init__(self, color = \"blue\"):\n",
    "        self.color = color\n",
    "\n",
    "class BallPit:\n",
    "    def __init__(self, balls = []):\n",
    "        self.balls = balls\n",
    "        self.colorList = [ball.color for ball in self.balls]\n",
    "    \n",
    "    def addBall(self, ball):\n",
    "        self.balls.append(ball)\n",
    "    \n",
    "    def ballsReady(self):\n",
    "        self.__init__(self.balls)"
   ]
  },
  {
   "cell_type": "code",
   "execution_count": 3,
   "metadata": {},
   "outputs": [
    {
     "name": "stdout",
     "output_type": "stream",
     "text": [
      "['blue', 'blue', 'blue', 'blue', 'blue', 'blue', 'blue', 'blue', 'blue', 'blue']\n"
     ]
    }
   ],
   "source": [
    "bpit = BallPit()\n",
    "for i in range(10):\n",
    "    bpit.addBall(Ball())\n",
    "bpit.ballsReady()\n",
    "print(bpit.colorList)"
   ]
  },
  {
   "cell_type": "code",
   "execution_count": 5,
   "metadata": {},
   "outputs": [
    {
     "name": "stdout",
     "output_type": "stream",
     "text": [
      "<Response [200]>\n",
      "a35e9ed1976a45447536190def37b269e1fff0ae\n",
      "Your Device is: a35e9ed1976a45447536190def37b269e1fff0ae\n"
     ]
    }
   ],
   "source": [
    "import Game\n",
    "game = Game.GAME()"
   ]
  },
  {
   "cell_type": "code",
   "execution_count": 10,
   "metadata": {},
   "outputs": [],
   "source": [
    "import token_generator\n",
    "token = game.access_token\n",
    "\n",
    "user_headers = {\n",
    "    \"Authorization\": \"Bearer \" + token,\n",
    "    \"Content-Type\": \"application/json\"\n",
    "    }\n",
    "\n",
    "user_params = {\n",
    "    #\"limit\": 50,\n",
    "    \"market\": \"US\",\n",
    "    \"additional_types\":[\"track\"]\n",
    "    }\n",
    "players = [Game.PLAYER(str(i), user_headers, user_params) for i in range(5)]\n"
   ]
  },
  {
   "cell_type": "code",
   "execution_count": 11,
   "metadata": {},
   "outputs": [
    {
     "data": {
      "text/plain": [
       "True"
      ]
     },
     "execution_count": 11,
     "metadata": {},
     "output_type": "execute_result"
    }
   ],
   "source": [
    "for i in range(5):\n",
    "    game.addPlayer(players[i])\n",
    "\n",
    "game.players == players"
   ]
  },
  {
   "cell_type": "code",
   "execution_count": 12,
   "metadata": {},
   "outputs": [
    {
     "name": "stdout",
     "output_type": "stream",
     "text": [
      "Starting game with: 0, 1, 2, 3, and 4\n"
     ]
    }
   ],
   "source": [
    "game.createGame()"
   ]
  },
  {
   "cell_type": "code",
   "execution_count": 13,
   "metadata": {},
   "outputs": [
    {
     "data": {
      "text/plain": [
       "True"
      ]
     },
     "execution_count": 13,
     "metadata": {},
     "output_type": "execute_result"
    }
   ],
   "source": [
    "game.players == players"
   ]
  },
  {
   "cell_type": "code",
   "execution_count": 14,
   "metadata": {},
   "outputs": [
    {
     "name": "stdout",
     "output_type": "stream",
     "text": [
      "[<Game.PLAYER object at 0x109db54d0>, <Game.PLAYER object at 0x109db7110>, <Game.PLAYER object at 0x109db4590>, <Game.PLAYER object at 0x109db59d0>, <Game.PLAYER object at 0x109db52d0>]\n",
      "[<Game.PLAYER object at 0x109db54d0>, <Game.PLAYER object at 0x109db7110>, <Game.PLAYER object at 0x109db4590>, <Game.PLAYER object at 0x109db59d0>, <Game.PLAYER object at 0x109db52d0>]\n"
     ]
    }
   ],
   "source": [
    "print(game.players)\n",
    "print(players)"
   ]
  },
  {
   "cell_type": "code",
   "execution_count": 15,
   "metadata": {},
   "outputs": [
    {
     "name": "stdout",
     "output_type": "stream",
     "text": [
      "The prompt is:\n",
      "I'm convinced this wasn't made by a real person.\n"
     ]
    },
    {
     "ename": "AttributeError",
     "evalue": "'NoneType' object has no attribute 'name'",
     "output_type": "error",
     "traceback": [
      "\u001b[0;31m---------------------------------------------------------------------------\u001b[0m",
      "\u001b[0;31mAttributeError\u001b[0m                            Traceback (most recent call last)",
      "Cell \u001b[0;32mIn [15], line 1\u001b[0m\n\u001b[0;32m----> 1\u001b[0m game\u001b[39m.\u001b[39;49mplay()\n",
      "File \u001b[0;32m~/Desktop/Spotify_Jackbox_Game/Game.py:177\u001b[0m, in \u001b[0;36mGAME.play\u001b[0;34m(self)\u001b[0m\n\u001b[1;32m    175\u001b[0m \u001b[39mprint\u001b[39m(\u001b[39m\"\u001b[39m\u001b[39mLet\u001b[39m\u001b[39m'\u001b[39m\u001b[39ms begin!\u001b[39m\u001b[39m\\n\u001b[39;00m\u001b[39m\"\u001b[39m)\n\u001b[1;32m    176\u001b[0m \u001b[39mwhile\u001b[39;00m \u001b[39mself\u001b[39m\u001b[39m.\u001b[39mr \u001b[39m<\u001b[39m\u001b[39m=\u001b[39m \u001b[39mself\u001b[39m\u001b[39m.\u001b[39mnrounds:\n\u001b[0;32m--> 177\u001b[0m     \u001b[39mself\u001b[39;49m\u001b[39m.\u001b[39;49mplay_round()\n\u001b[1;32m    178\u001b[0m     \u001b[39mself\u001b[39m\u001b[39m.\u001b[39mr\u001b[39m+\u001b[39m\u001b[39m=\u001b[39m\u001b[39m1\u001b[39m\n\u001b[1;32m    179\u001b[0m     time\u001b[39m.\u001b[39msleep(\u001b[39m5\u001b[39m)\n",
      "File \u001b[0;32m~/Desktop/Spotify_Jackbox_Game/Game.py:197\u001b[0m, in \u001b[0;36mGAME.play_round\u001b[0;34m(self)\u001b[0m\n\u001b[1;32m    194\u001b[0m clear_output(wait\u001b[39m=\u001b[39m\u001b[39mTrue\u001b[39;00m)\n\u001b[1;32m    196\u001b[0m \u001b[39mfor\u001b[39;00m battle \u001b[39min\u001b[39;00m \u001b[39mself\u001b[39m\u001b[39m.\u001b[39mbattles:\n\u001b[0;32m--> 197\u001b[0m     \u001b[39mself\u001b[39;49m\u001b[39m.\u001b[39;49mbattle(battle)\n\u001b[1;32m    198\u001b[0m     time\u001b[39m.\u001b[39msleep(\u001b[39m10\u001b[39m)\n\u001b[1;32m    199\u001b[0m     clear_output(wait\u001b[39m=\u001b[39m\u001b[39mFalse\u001b[39;00m)\n",
      "File \u001b[0;32m~/Desktop/Spotify_Jackbox_Game/Game.py:217\u001b[0m, in \u001b[0;36mGAME.battle\u001b[0;34m(self, battle)\u001b[0m\n\u001b[1;32m    215\u001b[0m \u001b[39mprint\u001b[39m(prompt)\n\u001b[1;32m    216\u001b[0m time\u001b[39m.\u001b[39msleep(\u001b[39m5\u001b[39m)\n\u001b[0;32m--> 217\u001b[0m \u001b[39mprint\u001b[39m(\u001b[39m\"\u001b[39m\u001b[39mplaying first submission: \u001b[39m\u001b[39m\"\u001b[39m \u001b[39m+\u001b[39m player1\u001b[39m.\u001b[39;49msong\u001b[39m.\u001b[39;49mname)\n\u001b[1;32m    218\u001b[0m player1\u001b[39m.\u001b[39msong\u001b[39m.\u001b[39mplay(\u001b[39mself\u001b[39m\u001b[39m.\u001b[39muser_headers, \u001b[39mself\u001b[39m\u001b[39m.\u001b[39mdevice_id)\n\u001b[1;32m    219\u001b[0m time\u001b[39m.\u001b[39msleep(\u001b[39m1\u001b[39m)\n",
      "\u001b[0;31mAttributeError\u001b[0m: 'NoneType' object has no attribute 'name'"
     ]
    }
   ],
   "source": [
    "game.play()"
   ]
  },
  {
   "cell_type": "code",
   "execution_count": 16,
   "metadata": {},
   "outputs": [
    {
     "data": {
      "text/plain": [
       "True"
      ]
     },
     "execution_count": 16,
     "metadata": {},
     "output_type": "execute_result"
    }
   ],
   "source": [
    "game.players == players"
   ]
  },
  {
   "cell_type": "code",
   "execution_count": 17,
   "metadata": {},
   "outputs": [
    {
     "ename": "KeyError",
     "evalue": "'c'",
     "output_type": "error",
     "traceback": [
      "\u001b[0;31m---------------------------------------------------------------------------\u001b[0m",
      "\u001b[0;31mKeyError\u001b[0m                                  Traceback (most recent call last)",
      "Cell \u001b[0;32mIn [17], line 2\u001b[0m\n\u001b[1;32m      1\u001b[0m d \u001b[39m=\u001b[39m {\u001b[39m'\u001b[39m\u001b[39ma\u001b[39m\u001b[39m'\u001b[39m : \u001b[39m1\u001b[39m, \u001b[39m'\u001b[39m\u001b[39mb\u001b[39m\u001b[39m'\u001b[39m : \u001b[39m2\u001b[39m}\n\u001b[0;32m----> 2\u001b[0m d[\u001b[39m'\u001b[39;49m\u001b[39mc\u001b[39;49m\u001b[39m'\u001b[39;49m]\n",
      "\u001b[0;31mKeyError\u001b[0m: 'c'"
     ]
    }
   ],
   "source": [
    "d = {'a' : 1, 'b' : 2}\n",
    "d['c']"
   ]
  },
  {
   "cell_type": "code",
   "execution_count": 18,
   "metadata": {},
   "outputs": [],
   "source": [
    "import tkinter as tk\n",
    "from PIL import Image, ImageTk\n",
    "from urllib.request import urlopen\n",
    "from io import BytesIO\n",
    "\n",
    "class GameScreen():\n",
    "\n",
    "    def __init__(self):\n",
    "        \"\"\" Take in window size \"\"\"\n",
    "        self.root = tk.Tk()\n",
    "        self.active = False\n",
    "        self.frames = []\n",
    "\n",
    "    def clear(self):\n",
    "        pass\n",
    "\n",
    "    def activate(self):\n",
    "        self.active = True\n",
    "        self.root.mainloop()\n",
    "\n",
    "    def showScores(self, players):\n",
    "        \"\"\" Given a list of player classes will display the game scores. \"\"\"\n",
    "        pass\n",
    "\n",
    "    # def showBattle(self, battle):\n",
    "    #     \"\"\" given the battle i.e a tuple of two fighting players and two tracks. \"\"\"\n",
    "    #     pass\n",
    "    def showSong(self, track, prompt):\n",
    "        pass\n",
    "\n",
    "    def showImage(self, url, root = None):\n",
    "        if not(bool(root)):\n",
    "            root = self.root\n",
    "        u = urlopen(url)\n",
    "        raw_data = u.read()\n",
    "        u.close()\n",
    "        photo = ImageTk.PhotoImage(data=raw_data)\n",
    "\n",
    "        label = tk.Label(image=photo)\n",
    "        self.frames.append(label)\n",
    "        label.image = photo\n",
    "        label.pack()\n",
    "        self.root.update()\n",
    "\n",
    "    def sayHello(self):\n",
    "        \"\"\"for testing\"\"\"\n",
    "        greeting = tk.Label(text=\"Hello, Tkinter\")\n",
    "        self.frames.append(greeting)\n",
    "        greeting.pack()\n",
    "    \n",
    "    def update(self):\n",
    "        self.root.update()\n",
    "        self.root.update_idletasks()\n"
   ]
  },
  {
   "cell_type": "code",
   "execution_count": 32,
   "metadata": {},
   "outputs": [],
   "source": [
    "screen = GameScreen()"
   ]
  },
  {
   "cell_type": "code",
   "execution_count": 33,
   "metadata": {},
   "outputs": [],
   "source": [
    "screen.sayHello()\n",
    "screen.activate()\n"
   ]
  },
  {
   "cell_type": "code",
   "execution_count": 53,
   "metadata": {},
   "outputs": [],
   "source": [
    "screen1 = GameScreen()\n",
    "screen1.showImage(\"https://upload.wikimedia.org/wikipedia/en/thumb/a/a3/Phineas_and_Ferb_Soundtrack.jpg/220px-Phineas_and_Ferb_Soundtrack.jpg\")\n",
    "screen.activate()"
   ]
  },
  {
   "cell_type": "code",
   "execution_count": 12,
   "metadata": {},
   "outputs": [
    {
     "name": "stdout",
     "output_type": "stream",
     "text": [
      "<Response [204]>\n",
      "Your Device is: a35e9ed1976a45447536190def37b269e1fff0ae\n"
     ]
    }
   ],
   "source": [
    "import importlib\n",
    "importlib.reload(Game)\n",
    "import Game"
   ]
  },
  {
   "cell_type": "code",
   "execution_count": 13,
   "metadata": {},
   "outputs": [],
   "source": [
    "\n",
    "track = Game.TRACK(\"5ygDXis42ncn6kYG14lEVG\", \"Baby Sharck\", [{'name':\"\"}],6)"
   ]
  },
  {
   "cell_type": "code",
   "execution_count": 14,
   "metadata": {},
   "outputs": [
    {
     "data": {
      "text/plain": [
       "'https://i.scdn.co/image/ab67616d0000b27311723f2867f29b2134ae47e4'"
      ]
     },
     "execution_count": 14,
     "metadata": {},
     "output_type": "execute_result"
    }
   ],
   "source": [
    "track.get_image()"
   ]
  },
  {
   "cell_type": "code",
   "execution_count": 19,
   "metadata": {},
   "outputs": [],
   "source": [
    "screen3 = GameScreen()\n",
    "screen3.showImage(track.get_image())\n",
    "# screen3.activate()"
   ]
  },
  {
   "cell_type": "code",
   "execution_count": 20,
   "metadata": {},
   "outputs": [],
   "source": [
    "\n",
    "import time\n",
    "start_time = time.time()\n",
    "while(time.time() - start_time < 10):\n",
    "    screen3.update()\n",
    "screen3.showImage(\"https://upload.wikimedia.org/wikipedia/en/thumb/a/a3/Phineas_and_Ferb_Soundtrack.jpg/220px-Phineas_and_Ferb_Soundtrack.jpg\")\n",
    "screen3.activate()\n"
   ]
  },
  {
   "cell_type": "code",
   "execution_count": 1,
   "metadata": {},
   "outputs": [],
   "source": [
    "from tkinter import *\n",
    "import time\n",
    "\n",
    "class App(Frame):\n",
    "    def __init__(self,wait_message,parent=None, wait_time = 60):\n",
    "        Frame.__init__(self, parent)\n",
    "        self.wait_message = wait_message\n",
    "        self.wait_time = wait_time\n",
    "        self.start_time = time.time()\n",
    "        self.parent = parent\n",
    "        self.label = Label(parent, text=\"\", font=(\"Helvetica\", 52))\n",
    "        self.label.place(x=50,y=80)\n",
    "        self.update_clock()\n",
    "\n",
    "    def update_clock(self):\n",
    "        #now = time.strftime(\"%H:%M:%S\")\n",
    "        time_left = str(self.wait_time - int(time.time() - self.start_time))\n",
    "        self.label.configure(text=self.wait_message + time_left)\n",
    "        self.after(1000, self.update_clock)\n",
    "\n",
    "root = Tk()\n",
    "app=App(\"Waiting for submissions. \", root)\n",
    "root.wm_title(\"Tkinter clock\")\n",
    "root.geometry(\"800x800\")\n",
    "root.after(1000, app.update_clock)\n",
    "root.mainloop()"
   ]
  },
  {
   "cell_type": "code",
   "execution_count": 6,
   "metadata": {},
   "outputs": [],
   "source": [
    "root = Tk()\n",
    "frame = LabelFrame(root)\n",
    "app=App(\"Waiting for submissions. \", frame)\n",
    "root.wm_title(\"Tkinter clock\")\n",
    "root.geometry(\"800x800\")\n",
    "root.after(1000, frame.pack())\n",
    "root.after(1000, app.update_clock)\n",
    "root.mainloop()"
   ]
  },
  {
   "cell_type": "markdown",
   "metadata": {},
   "source": [
    "### NEW STRUCTURE ###"
   ]
  },
  {
   "cell_type": "code",
   "execution_count": 12,
   "metadata": {},
   "outputs": [
    {
     "name": "stdout",
     "output_type": "stream",
     "text": [
      "Requirement already satisfied: pip in /Library/Frameworks/Python.framework/Versions/3.11/lib/python3.11/site-packages (22.3.1)\n",
      "Collecting pip\n",
      "  Downloading pip-23.3.1-py3-none-any.whl (2.1 MB)\n",
      "\u001b[2K     \u001b[90m━━━━━━━━━━━━━━━━━━━━━━━━━━━━━━━━━━━━━━━━\u001b[0m \u001b[32m2.1/2.1 MB\u001b[0m \u001b[31m10.1 MB/s\u001b[0m eta \u001b[36m0:00:00\u001b[0m00:01\u001b[0m00:01\u001b[0m\n",
      "\u001b[?25hInstalling collected packages: pip\n",
      "  Attempting uninstall: pip\n",
      "    Found existing installation: pip 22.3.1\n",
      "    Uninstalling pip-22.3.1:\n",
      "      Successfully uninstalled pip-22.3.1\n",
      "Successfully installed pip-23.3.1\n",
      "Note: you may need to restart the kernel to use updated packages.\n"
     ]
    }
   ],
   "source": [
    "%pip install --upgrade pip"
   ]
  },
  {
   "cell_type": "code",
   "execution_count": 13,
   "metadata": {},
   "outputs": [
    {
     "name": "stdout",
     "output_type": "stream",
     "text": [
      "\u001b[31mERROR: Could not find a version that satisfies the requirement pyimage2 (from versions: none)\u001b[0m\u001b[31m\n",
      "\u001b[0m\u001b[31mERROR: No matching distribution found for pyimage2\u001b[0m\u001b[31m\n",
      "\u001b[0mNote: you may need to restart the kernel to use updated packages.\n"
     ]
    }
   ],
   "source": [
    "%pip install pyimage2"
   ]
  },
  {
   "cell_type": "code",
   "execution_count": 3,
   "metadata": {},
   "outputs": [],
   "source": [
    "#import tkinter as tk\n",
    "from tkinter import *\n",
    "from PIL import Image, ImageTk\n",
    "from urllib.request import urlopen\n",
    "from io import BytesIO\n",
    "import time\n",
    "\n",
    " #_______________________________main object to be used in other code________________________#\n",
    "class GameFrame(Frame):\n",
    "    def __init__(self, parent = None):\n",
    "        '''Class that manages the game screen in the spotify game'''\n",
    "        self.parent = parent\n",
    "        self.frame = LabelFrame(parent)\n",
    "        self.players = []\n",
    "        self.waiting_room = None\n",
    "        self.timer = None\n",
    "    \n",
    "    def showSubmission(self, prompt, track):\n",
    "        url = track.get_image()\n",
    "        showsong = ShowSong(prompt, url, self.frame)\n",
    "        self.frame.pack()\n",
    "    \n",
    "    def showScores(self, players):\n",
    "        '''ranks the players by scores and displays the standings'''\n",
    "        scores = Scores(players, self.frame)\n",
    "        self.frame.pack()\n",
    "\n",
    "    def waitForSubmissions(self):\n",
    "        self.timer = GetSubmissions(\"Waiting for Submissions: \", self.frame)\n",
    "        self.frame.pack()\n",
    "\n",
    "    def waitForVotes(self):\n",
    "        self.timer = GetSubmissions(\"Waiting for Votes: \", self.frame)\n",
    "        self.frame.pack()\n",
    "    \n",
    "    def updateTimer(self):\n",
    "        self.timer.update_clock()\n",
    "        self.frame.pack()\n",
    "\n",
    "    def addPlayer(self, player_name):\n",
    "        '''addPlayers as they join the game lobby (only use while Lobby is active)'''\n",
    "        self.waiting_room.add_player(player_name)\n",
    "        self.frame.pack()\n",
    "        \n",
    "    def lobby(self, game_code):\n",
    "        '''Page that displays the game code and all players currently in the lobby'''\n",
    "        self.waiting_room = JoinGame(game_code, self.frame)\n",
    "        self.frame.pack()\n",
    "\n",
    "    def showWinner(self,player1, player2):\n",
    "        self.winnerText = ShowWinner(player1, player2, self.frame)\n",
    "        self.frame.pack()\n",
    "\n",
    "    def clear(self):\n",
    "        '''Clears the game frame'''\n",
    "        for widget in self.frame.winfo_children():\n",
    "            widget.destroy()\n",
    "\n",
    "\n",
    "\n",
    "# Skeletal player object for testing purposes\n",
    "class testPlayer:\n",
    "    def __init__(self, name, score):\n",
    "        self.name = name\n",
    "        self.score = score\n",
    "        self.votes = 0\n",
    "        self.song = testTrack(\"wow\")\n",
    "        self.song.name = \"Songy\"\n",
    "\n",
    "class testTrack:\n",
    "    def __init__(self, track_url):\n",
    "        self.track_url = track_url\n",
    "\n",
    "    def get_image(self):\n",
    "        return self.track_url\n",
    "\n",
    "#____________________________________TKINTER HELPER CLASSES_________________________________#\n",
    "class Scores(Frame):\n",
    "    \n",
    "    def __init__(self,players,parent=None):\n",
    "        '''Takes in a list of players and displays there scores'''\n",
    "        self.parent = parent\n",
    "        self.label = Label(parent, text=\"Player Scores\")\n",
    "        self.label.grid(row=0,column=0)\n",
    "        scores = {player: player.score for player in players}\n",
    "        scores = sorted(scores.keys(), reverse= True, key = lambda x:scores[x])\n",
    "        for i, player in enumerate(scores):\n",
    "            playerLabel = Label(parent, text = player.name)\n",
    "            scoreLabel = Label(parent, text = str(player.score))\n",
    "            playerLabel.grid(row = i+1, column = 0)\n",
    "            scoreLabel.grid(row = i+1, column = 1)\n",
    "\n",
    "class ShowSong(Frame):\n",
    "\n",
    "    def __init__(self, prompt: str, url: str, parent = None) -> None:\n",
    "        '''Takes in a prompt and the image of the track submission'''\n",
    "        self.parent = parent\n",
    "        self.label = Label(parent, text=\"The prompt was: \" + prompt)\n",
    "        self.label.pack()\n",
    "        u = urlopen(url)\n",
    "        raw_data = u.read()\n",
    "        u.close()\n",
    "        photo = ImageTk.PhotoImage(data=raw_data)\n",
    "\n",
    "        label = Label(parent, image=photo)\n",
    "        label.image = photo\n",
    "        label.pack()\n",
    "\n",
    "class GetSubmissions(Frame):\n",
    "\n",
    "    def __init__(self, wait_message, parent = None, wait_time = 60) -> None:\n",
    "        '''Takes in a wait message, a parent (default= None), and a wait_time (default = 60).\n",
    "        Creates a frame with the message and the time left until submissions close.'''\n",
    "        Frame.__init__(self, parent)\n",
    "        self.wait_message = wait_message\n",
    "        self.wait_time = wait_time\n",
    "        self.start_time = time.time()\n",
    "        self.parent = parent\n",
    "        self.label = Label(parent, text=\"\", font=(\"Helvetica\", 30))\n",
    "        self.label.place(x=50,y=80)\n",
    "        self.update_clock()\n",
    "\n",
    "    def update_clock(self):\n",
    "        #now = time.strftime(\"%H:%M:%S\")\n",
    "        time_left = str(self.wait_time - int(time.time() - self.start_time))\n",
    "        self.label.configure(text=self.wait_message + f'{time_left} seconds left')\n",
    "        self.after(1000, self.update_clock)\n",
    "\n",
    "class JoinGame(Frame):\n",
    "\n",
    "    def __init__(self, game_code, parent = None):\n",
    "        self.parent = parent\n",
    "        self.title = Label(parent, text = \"Spotify Beat Battles\", font=(\"Helvetica\", 70), fg = \"light green\")\n",
    "        self.title.pack()\n",
    "        self.label = Label(parent, text = \"Game Code: \" + game_code, font=(\"Helvetica\", 30))\n",
    "        self.label.pack()\n",
    "        self.players = Label(parent, text = \"Players in Lobby: \", font=(\"Helvetica\", 18))\n",
    "        self.players.pack()\n",
    "\n",
    "    def add_player(self, player_name):\n",
    "        player = Label(self.parent, text = player_name)\n",
    "        player.pack()\n",
    "\n",
    "class ShowWinner(Frame):\n",
    "\n",
    "    def __init__(self, player1, player2, parent = None):\n",
    "        self.player1, self.player2 = (player1, player2)\n",
    "        self.parent = parent\n",
    "        self.title = Label(parent, text = \"VOTES ARE IN!\", font=(\"Helvetica\", 70), fg = \"light green\")\n",
    "        self.title.pack()\n",
    "        self.label = Label(parent, text = self.resultText(), font=(\"Helvetica\", 30))\n",
    "        self.label.pack()\n",
    "    \n",
    "    def resultText(self):\n",
    "        if self.player1.votes == self.player2.votes:\n",
    "            return f\"{self.player1.name} and {self.player2.name} tied!\"\n",
    "        elif self.player1.votes > self.player2.votes:\n",
    "            return f\"{self.player1.name} won with {self.player1.song.name}!\"\n",
    "        else:\n",
    "            return f\"{self.player2.name} won with {self.player2.song.name}!\"\n",
    "\n",
    "\n"
   ]
  },
  {
   "cell_type": "code",
   "execution_count": 4,
   "metadata": {},
   "outputs": [
    {
     "ename": "",
     "evalue": "",
     "output_type": "error",
     "traceback": [
      "\u001b[1;31mThe Kernel crashed while executing code in the the current cell or a previous cell. Please review the code in the cell(s) to identify a possible cause of the failure. Click <a href='https://aka.ms/vscodeJupyterKernelCrash'>here</a> for more info. View Jupyter <a href='command:jupyter.viewOutput'>log</a> for further details."
     ]
    }
   ],
   "source": [
    "\n",
    "import traceback\n",
    "#______________________Testing Loop______________________\n",
    "main_root = Tk()\n",
    "main_root.geometry(\"750x270\")\n",
    "main_root.title(\"Spotify Game Window\")\n",
    "main_screen = GameFrame(main_root)\n",
    "players = [testPlayer(\"Player\" + str(i + 1), i*100) for i in range(8)]\n",
    "try:\n",
    "    while True:\n",
    "\n",
    "        # ____how to use .addPlayer()___\n",
    "        a = input(\"What would you like to do: \")\n",
    "        if a == \"add player\":\n",
    "            name = input(\"Player name? \")\n",
    "            main_screen.addPlayer(name)\n",
    "\n",
    "        # ____how to use .lobby()____\n",
    "        elif a == \"lobby\":\n",
    "            main_screen.clear()\n",
    "            main_screen.lobby(\"XXXX\")\n",
    "        \n",
    "        elif a == \"show winner\":\n",
    "            main_screen.clear()\n",
    "            player1 = testPlayer(\"Player1\", 0)\n",
    "            player2 = testPlayer(\"Player2\", 0)\n",
    "            votes1 = input(\"Votest for player1? \")\n",
    "            votes2 = input(\"Votest for player2? \")\n",
    "            player1.votes = int(votes1)\n",
    "            player2.votes = int(votes2)\n",
    "            main_screen.showWinner(player1, player2)\n",
    "\n",
    "        # ____how to use .waitForVotes()_____\n",
    "        elif a == \"wait for votes\":\n",
    "            main_screen.clear()\n",
    "            # make the call:\n",
    "            main_screen.waitForVotes()\n",
    "            # make a while loop and update the root and call .updateTimer()\n",
    "            start = time.time()\n",
    "            while time.time() - start < 60:\n",
    "                main_screen.updateTimer()\n",
    "                main_root.update_idletasks()\n",
    "                main_root.update()\n",
    "        \n",
    "        # ____how to use .waitForSubmissions()_____\n",
    "        elif a == \"wait for submissions\":\n",
    "            main_screen.clear()\n",
    "            # make the call:\n",
    "            main_screen.waitForSubmissions()\n",
    "            # make a while loop and update the root and call .updateTimer()\n",
    "            start = time.time()\n",
    "            while time.time() - start < 60:\n",
    "                main_screen.updateTimer()\n",
    "                main_root.update_idletasks()\n",
    "                main_root.update()\n",
    "        \n",
    "        # ____how to use .showScores()_____\n",
    "        elif a == \"show scores\":\n",
    "            main_screen.clear()\n",
    "            main_screen.showScores(players)\n",
    "\n",
    "        # ____how to use .showSubmission()_____\n",
    "        elif a == \"show submission\":\n",
    "            main_screen.clear()\n",
    "            prompt = input(\"what is the prompt?\")\n",
    "            track = testTrack(\"https://upload.wikimedia.org/wikipedia/en/thumb/a/a3/Phineas_and_Ferb_Soundtrack.jpg/220px-Phineas_and_Ferb_Soundtrack.jpg\")\n",
    "            main_screen.showSubmission(prompt, track)\n",
    "        \n",
    "        # ____how to use .clear()_____\n",
    "        elif a == \"clear\":\n",
    "            main_screen.clear()\n",
    "        \n",
    "        elif a == \"quit\":\n",
    "            main_root.quit()\n",
    "            break\n",
    "\n",
    "        main_root.update_idletasks()\n",
    "        main_root.update()\n",
    "\n",
    "        #brief while loop for testing purposes\n",
    "        # start = time.time()\n",
    "        # while time.time() - start < 20:\n",
    "        #     main_root.update_idletasks()\n",
    "        #     main_root.update()\n",
    "\n",
    "except Exception as e: # nice quit to not get ghost windows when an error is given\n",
    "    main_root.destroy()\n",
    "    print(traceback.format_exc())"
   ]
  },
  {
   "cell_type": "code",
   "execution_count": 2,
   "metadata": {},
   "outputs": [],
   "source": [
    "root5 = Tk()\n",
    "frame = LabelFrame(root5)\n",
    "join_page = JoinGame(\"XXXX\", root5)\n",
    "join_page.add_player(\"Player1\")\n",
    "join_page.add_player(\"Player2\")\n",
    "join_page.add_player(\"Player3\")\n",
    "join_page.add_player(\"Player4\")\n",
    "root5.geometry(\"800x800\")\n",
    "root5.mainloop()"
   ]
  },
  {
   "cell_type": "code",
   "execution_count": 11,
   "metadata": {},
   "outputs": [],
   "source": [
    "root4 = Tk()\n",
    "#frame = LabelFrame(root4)\n",
    "timer = GetSubmissions(\"Submit songs for the prompt on your devices . . . \\n\", root4)\n",
    "#frame.pack()\n",
    "root4.geometry(\"800x800\")\n",
    "#frame.after(1000, timer.update_clock)\n",
    "root4.after(1000, timer.update_clock)\n",
    "root4.after(60000, root4.destroy())\n",
    "root4.mainloop()"
   ]
  },
  {
   "cell_type": "code",
   "execution_count": 15,
   "metadata": {},
   "outputs": [
    {
     "ename": "TclError",
     "evalue": "image \"pyimage3\" doesn't exist",
     "output_type": "error",
     "traceback": [
      "\u001b[0;31m---------------------------------------------------------------------------\u001b[0m",
      "\u001b[0;31mTclError\u001b[0m                                  Traceback (most recent call last)",
      "Cell \u001b[0;32mIn [15], line 3\u001b[0m\n\u001b[1;32m      1\u001b[0m root3 \u001b[39m=\u001b[39m Tk()\n\u001b[1;32m      2\u001b[0m frame \u001b[39m=\u001b[39m LabelFrame(root3)\n\u001b[0;32m----> 3\u001b[0m song \u001b[39m=\u001b[39m ShowSong(\u001b[39m\"\u001b[39;49m\u001b[39mBest song from a show\u001b[39;49m\u001b[39m\"\u001b[39;49m, \u001b[39m\"\u001b[39;49m\u001b[39mhttps://upload.wikimedia.org/wikipedia/en/thumb/a/a3/Phineas_and_Ferb_Soundtrack.jpg/220px-Phineas_and_Ferb_Soundtrack.jpg\u001b[39;49m\u001b[39m\"\u001b[39;49m, frame)\n\u001b[1;32m      4\u001b[0m frame\u001b[39m.\u001b[39mpack()\n\u001b[1;32m      5\u001b[0m root3\u001b[39m.\u001b[39mmainloop()\n",
      "Cell \u001b[0;32mIn [8], line 98\u001b[0m, in \u001b[0;36mShowSong.__init__\u001b[0;34m(self, prompt, url, parent)\u001b[0m\n\u001b[1;32m     95\u001b[0m u\u001b[39m.\u001b[39mclose()\n\u001b[1;32m     96\u001b[0m photo \u001b[39m=\u001b[39m ImageTk\u001b[39m.\u001b[39mPhotoImage(data\u001b[39m=\u001b[39mraw_data)\n\u001b[0;32m---> 98\u001b[0m label \u001b[39m=\u001b[39m Label(parent, image\u001b[39m=\u001b[39;49mphoto)\n\u001b[1;32m     99\u001b[0m label\u001b[39m.\u001b[39mimage \u001b[39m=\u001b[39m photo\n\u001b[1;32m    100\u001b[0m label\u001b[39m.\u001b[39mpack()\n",
      "File \u001b[0;32m/Library/Frameworks/Python.framework/Versions/3.11/lib/python3.11/tkinter/__init__.py:3204\u001b[0m, in \u001b[0;36mLabel.__init__\u001b[0;34m(self, master, cnf, **kw)\u001b[0m\n\u001b[1;32m   3186\u001b[0m \u001b[39mdef\u001b[39;00m \u001b[39m__init__\u001b[39m(\u001b[39mself\u001b[39m, master\u001b[39m=\u001b[39m\u001b[39mNone\u001b[39;00m, cnf\u001b[39m=\u001b[39m{}, \u001b[39m*\u001b[39m\u001b[39m*\u001b[39mkw):\n\u001b[1;32m   3187\u001b[0m     \u001b[39m\"\"\"Construct a label widget with the parent MASTER.\u001b[39;00m\n\u001b[1;32m   3188\u001b[0m \n\u001b[1;32m   3189\u001b[0m \u001b[39m    STANDARD OPTIONS\u001b[39;00m\n\u001b[0;32m   (...)\u001b[0m\n\u001b[1;32m   3202\u001b[0m \n\u001b[1;32m   3203\u001b[0m \u001b[39m    \"\"\"\u001b[39;00m\n\u001b[0;32m-> 3204\u001b[0m     Widget\u001b[39m.\u001b[39;49m\u001b[39m__init__\u001b[39;49m(\u001b[39mself\u001b[39;49m, master, \u001b[39m'\u001b[39;49m\u001b[39mlabel\u001b[39;49m\u001b[39m'\u001b[39;49m, cnf, kw)\n",
      "File \u001b[0;32m/Library/Frameworks/Python.framework/Versions/3.11/lib/python3.11/tkinter/__init__.py:2628\u001b[0m, in \u001b[0;36mBaseWidget.__init__\u001b[0;34m(self, master, widgetName, cnf, kw, extra)\u001b[0m\n\u001b[1;32m   2626\u001b[0m \u001b[39mfor\u001b[39;00m k, v \u001b[39min\u001b[39;00m classes:\n\u001b[1;32m   2627\u001b[0m     \u001b[39mdel\u001b[39;00m cnf[k]\n\u001b[0;32m-> 2628\u001b[0m \u001b[39mself\u001b[39;49m\u001b[39m.\u001b[39;49mtk\u001b[39m.\u001b[39;49mcall(\n\u001b[1;32m   2629\u001b[0m     (widgetName, \u001b[39mself\u001b[39;49m\u001b[39m.\u001b[39;49m_w) \u001b[39m+\u001b[39;49m extra \u001b[39m+\u001b[39;49m \u001b[39mself\u001b[39;49m\u001b[39m.\u001b[39;49m_options(cnf))\n\u001b[1;32m   2630\u001b[0m \u001b[39mfor\u001b[39;00m k, v \u001b[39min\u001b[39;00m classes:\n\u001b[1;32m   2631\u001b[0m     k\u001b[39m.\u001b[39mconfigure(\u001b[39mself\u001b[39m, v)\n",
      "\u001b[0;31mTclError\u001b[0m: image \"pyimage3\" doesn't exist"
     ]
    }
   ],
   "source": [
    "root3 = Tk()\n",
    "frame = LabelFrame(root3)\n",
    "song = ShowSong(\"Best song from a show\", \"https://upload.wikimedia.org/wikipedia/en/thumb/a/a3/Phineas_and_Ferb_Soundtrack.jpg/220px-Phineas_and_Ferb_Soundtrack.jpg\", frame)\n",
    "frame.pack()\n",
    "root3.mainloop()"
   ]
  },
  {
   "cell_type": "code",
   "execution_count": 3,
   "metadata": {},
   "outputs": [],
   "source": [
    "players = [testPlayer(\"Player\" + str(i + 1), i*100) for i in range(8)]\n",
    "root2 = Tk()\n",
    "frame = LabelFrame(root2)\n",
    "frame.pack(padx=\"10\", pady=\"10\")\n",
    "score = Scores(players, frame)\n",
    "\n",
    "root2.mainloop()"
   ]
  },
  {
   "cell_type": "code",
   "execution_count": 14,
   "metadata": {},
   "outputs": [
    {
     "name": "stdout",
     "output_type": "stream",
     "text": [
      "\u001b[31mERROR: Could not find a version that satisfies the requirement PIL (from versions: none)\u001b[0m\u001b[31m\n",
      "\u001b[0m\u001b[31mERROR: No matching distribution found for PIL\u001b[0m\u001b[31m\n",
      "\u001b[0mNote: you may need to restart the kernel to use updated packages.\n"
     ]
    }
   ],
   "source": [
    "%pip install PIL"
   ]
  },
  {
   "cell_type": "code",
   "execution_count": null,
   "metadata": {},
   "outputs": [],
   "source": []
  }
 ],
 "metadata": {
  "kernelspec": {
   "display_name": "Python 3.11.0 64-bit",
   "language": "python",
   "name": "python3"
  },
  "language_info": {
   "codemirror_mode": {
    "name": "ipython",
    "version": 3
   },
   "file_extension": ".py",
   "mimetype": "text/x-python",
   "name": "python",
   "nbconvert_exporter": "python",
   "pygments_lexer": "ipython3",
   "version": "3.11.0"
  },
  "orig_nbformat": 4,
  "vscode": {
   "interpreter": {
    "hash": "aee8b7b246df8f9039afb4144a1f6fd8d2ca17a180786b69acc140d282b71a49"
   }
  }
 },
 "nbformat": 4,
 "nbformat_minor": 2
}
